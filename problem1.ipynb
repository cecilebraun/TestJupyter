{
 "cells": [
  {
   "cell_type": "markdown",
   "metadata": {
    "nbgrader": {
     "grade": false,
     "grade_id": "jupyter",
     "locked": true,
     "schema_version": 3,
     "solution": false
    }
   },
   "source": [
    "For this problem set, we'll be using the Jupyter notebook:\n",
    "\n",
    "![](jupyter.png)"
   ]
  },
  {
   "cell_type": "markdown",
   "metadata": {
    "nbgrader": {
     "grade": false,
     "grade_id": "cell-72da9b31e73fecef",
     "locked": true,
     "schema_version": 3,
     "solution": false,
     "task": false
    }
   },
   "source": [
    "# On se remet à Python"
   ]
  },
  {
   "cell_type": "markdown",
   "metadata": {
    "nbgrader": {
     "grade": false,
     "grade_id": "cell-4e9739b544cc7260",
     "locked": true,
     "schema_version": 3,
     "solution": false,
     "task": false
    }
   },
   "source": [
    "## Des exercices de bases\n"
   ]
  },
  {
   "cell_type": "markdown",
   "metadata": {
    "nbgrader": {
     "grade": false,
     "grade_id": "cell-d0a0afe6813e916a",
     "locked": true,
     "schema_version": 3,
     "solution": false,
     "task": false
    }
   },
   "source": [
    "### Des calculs simples"
   ]
  },
  {
   "cell_type": "code",
   "execution_count": 7,
   "metadata": {
    "nbgrader": {
     "grade": false,
     "grade_id": "cell-8624d910f5d99547",
     "locked": false,
     "schema_version": 3,
     "solution": true,
     "task": false
    }
   },
   "outputs": [],
   "source": [
    "def moyenne_3_nb(n1,n2,n3):\n",
    "    \"\"\"Compute the average of 3 numbers\n",
    "    \"\"\"\n",
    "    ### BEGIN SOLUTION\n",
    "    return (n1+n2+n3)/3\n",
    "    ### END SOLUTION\n"
   ]
  },
  {
   "cell_type": "code",
   "execution_count": 16,
   "metadata": {
    "nbgrader": {
     "grade": true,
     "grade_id": "cell-2e156d82f5ec7bc1",
     "locked": true,
     "points": 2,
     "schema_version": 3,
     "solution": false,
     "task": false
    }
   },
   "outputs": [],
   "source": [
    "\"\"\" Check your function \"\"\" \n",
    "assert moyenne_3_nb(10,10,10) == 10\n",
    "assert moyenne_3_nb(10,15,20) == 15\n",
    "assert moyenne_3_nb(-5,10,16) == 7"
   ]
  },
  {
   "cell_type": "code",
   "execution_count": 17,
   "metadata": {
    "nbgrader": {
     "grade": false,
     "grade_id": "cell-58a579236231e23e",
     "locked": false,
     "schema_version": 3,
     "solution": true,
     "task": false
    }
   },
   "outputs": [],
   "source": [
    "def moyenne_3_nb_pondere(n1,n2,n3,p1,p2,p3):\n",
    "    \"\"\"Compute the average of 3 numbers with coefficients \n",
    "        raise an error if the sum of the coefficient is equal to 0\n",
    "    \"\"\"\n",
    "    ### BEGIN SOLUTION\n",
    "    if(p1+p2+p3 == 0):\n",
    "        raise ValueError(\"division by 0\")\n",
    "    return ((n1*p1)+(n2*p2)+(n3*p3))/(p1+p2+p3)\n",
    "    ### END SOLUTION"
   ]
  },
  {
   "cell_type": "code",
   "execution_count": 65,
   "metadata": {
    "nbgrader": {
     "grade": true,
     "grade_id": "cell-e12e4f9f4ca6bb9f",
     "locked": true,
     "points": 2,
     "schema_version": 3,
     "solution": false,
     "task": false
    }
   },
   "outputs": [],
   "source": [
    "try :\n",
    "    moyenne_3_nb_pondere(1,2,4,2,2,-4)\n",
    "except ValueError:\n",
    "    pass\n",
    "else:\n",
    "    raise AssertionError(\"did not raise\")\n",
    "\n",
    "assert moyenne_3_nb_pondere(1,2,4,2,2,1) == 2\n",
    "assert moyenne_3_nb_pondere(0,0,0,2,2,3) == 0"
   ]
  },
  {
   "cell_type": "markdown",
   "metadata": {
    "nbgrader": {
     "grade": false,
     "grade_id": "cell-6b18eeb980ea6919",
     "locked": true,
     "schema_version": 3,
     "solution": false,
     "task": false
    }
   },
   "source": [
    "### Des conditions et des boucles"
   ]
  },
  {
   "cell_type": "code",
   "execution_count": 21,
   "metadata": {
    "nbgrader": {
     "grade": false,
     "grade_id": "cell-1d2dbf883de032be",
     "locked": false,
     "schema_version": 3,
     "solution": true,
     "task": false
    }
   },
   "outputs": [],
   "source": [
    "def sum_odd(n):\n",
    "    \"\"\"Sum of odd numbers less or equal to n\"\"\"\n",
    "    ### BEGIN SOLUTION\n",
    "    sum = 0\n",
    "    for i in range(1,n+1,2):\n",
    "        sum = sum + i\n",
    "    return sum\n",
    "    ### END SOLUTION"
   ]
  },
  {
   "cell_type": "code",
   "execution_count": 22,
   "metadata": {
    "nbgrader": {
     "grade": true,
     "grade_id": "cell-7da3d03455537762",
     "locked": true,
     "points": 3,
     "schema_version": 3,
     "solution": false,
     "task": false
    }
   },
   "outputs": [],
   "source": [
    "assert sum_odd(0) == 0\n",
    "assert sum_odd(1) == 1\n",
    "assert sum_odd(2) == 1\n",
    "assert sum_odd(3) == 4\n",
    "assert sum_odd(20) == 100"
   ]
  },
  {
   "cell_type": "code",
   "execution_count": 23,
   "metadata": {
    "nbgrader": {
     "grade": false,
     "grade_id": "cell-1d2dbf883de032bf",
     "locked": false,
     "schema_version": 3,
     "solution": true,
     "task": false
    }
   },
   "outputs": [],
   "source": [
    "def sum_first_odd(n):\n",
    "    \"\"\"Sum of n first odd numbers \"\"\"\n",
    "    ### BEGIN SOLUTION\n",
    "    sum = 0\n",
    "    nb = 0\n",
    "    i = 1\n",
    "    while nb < n : \n",
    "        sum = sum + i\n",
    "        nb = nb + 1\n",
    "        i = i + 2\n",
    "    return sum\n",
    "    ### END SOLUTION"
   ]
  },
  {
   "cell_type": "code",
   "execution_count": 24,
   "metadata": {
    "nbgrader": {
     "grade": true,
     "grade_id": "cell-7da3d0345553776a",
     "locked": true,
     "points": 4,
     "schema_version": 3,
     "solution": false,
     "task": false
    }
   },
   "outputs": [],
   "source": [
    "assert sum_first_odd(0) == 0\n",
    "assert sum_first_odd(1) == 1\n",
    "assert sum_first_odd(2) == 4\n",
    "assert sum_first_odd(3) == 9\n",
    "assert sum_first_odd(20) == 400"
   ]
  },
  {
   "cell_type": "markdown",
   "metadata": {
    "nbgrader": {
     "grade": false,
     "grade_id": "cell-abb55b773ed73485",
     "locked": true,
     "schema_version": 3,
     "solution": false,
     "task": false
    }
   },
   "source": [
    "## Des chaînes de caractères"
   ]
  },
  {
   "cell_type": "markdown",
   "metadata": {},
   "source": [
    "### Supression\n",
    "\n",
    "Ecrire la fonction `suppression(c, s)` qui supprime toutes les occurrences du caractère `c` dans la chaîne `s`."
   ]
  },
  {
   "cell_type": "markdown",
   "metadata": {
    "nbgrader": {
     "grade": false,
     "grade_id": "cell-f3a40e7324240485",
     "locked": true,
     "schema_version": 3,
     "solution": false,
     "task": false
    }
   },
   "source": []
  },
  {
   "cell_type": "code",
   "execution_count": 40,
   "metadata": {
    "nbgrader": {
     "grade": false,
     "grade_id": "cell-5388e7c7c7ee2ea2",
     "locked": false,
     "schema_version": 3,
     "solution": true,
     "task": false
    }
   },
   "outputs": [
    {
     "data": {
      "text/plain": [
       "'ppl'"
      ]
     },
     "execution_count": 40,
     "metadata": {},
     "output_type": "execute_result"
    }
   ],
   "source": [
    "def suppression(c,s):\n",
    "    ### BEGIN SOLUTION\n",
    "    new_s = \"\"\n",
    "    for a in s:\n",
    "        if a != c:\n",
    "            new_s = new_s + a\n",
    "    return new_s            \n",
    "    ### END SOLUTION"
   ]
  },
  {
   "cell_type": "code",
   "execution_count": 49,
   "metadata": {
    "nbgrader": {
     "grade": true,
     "grade_id": "cell-021289affc28c89d",
     "locked": true,
     "points": 2,
     "schema_version": 3,
     "solution": false,
     "task": false
    }
   },
   "outputs": [],
   "source": [
    "assert suppression('a',\"youplapla\") == \"youplpl\"\n",
    "assert suppression(\"z\",\"polytech\")== \"polytech\"\n",
    "assert suppression('o',\"oooooo\") == \"\""
   ]
  },
  {
   "cell_type": "markdown",
   "metadata": {},
   "source": [
    "### Supression 2\n",
    "\n",
    "Supprimer la première occurence d'une lettre dans un mot"
   ]
  },
  {
   "cell_type": "code",
   "execution_count": 46,
   "metadata": {
    "nbgrader": {
     "grade": false,
     "grade_id": "cell-5388e7c7c7ee2ef",
     "locked": false,
     "schema_version": 3,
     "solution": true,
     "task": false
    }
   },
   "outputs": [
    {
     "data": {
      "text/plain": [
       "'youplplapla'"
      ]
     },
     "execution_count": 46,
     "metadata": {},
     "output_type": "execute_result"
    }
   ],
   "source": [
    "def suppression_premiere(c,s):\n",
    "    ### BEGIN SOLUTION\n",
    "    new_s = \"\"\n",
    "    vu = False\n",
    "    for a in s:\n",
    "        if a != c or vu:\n",
    "            new_s = new_s + a\n",
    "        else : \n",
    "            vu = True\n",
    "    return new_s            \n",
    "    ### END SOLUTION"
   ]
  },
  {
   "cell_type": "code",
   "execution_count": 50,
   "metadata": {
    "nbgrader": {
     "grade": true,
     "grade_id": "cell-021289affc28c89e",
     "locked": true,
     "points": 2,
     "schema_version": 3,
     "solution": false,
     "task": false
    }
   },
   "outputs": [],
   "source": [
    "assert suppression_premiere('a',\"youplaplapla\") == \"youplplapla\"\n",
    "assert suppression_premiere(\"z\",\"polytech\")== \"polytech\"\n",
    "assert suppression_premiere('o',\"oooooo\") == \"ooooo\""
   ]
  },
  {
   "cell_type": "markdown",
   "metadata": {
    "nbgrader": {
     "grade": false,
     "grade_id": "cell-e364b1236c98d978",
     "locked": true,
     "schema_version": 3,
     "solution": false,
     "task": false
    }
   },
   "source": [
    "### Palindromes\n",
    "\n",
    "Ecrire la fonction `est_palindrome(s)` qui retourne vraie si la chaîne de caractère `s` est un palindrome"
   ]
  },
  {
   "cell_type": "code",
   "execution_count": 27,
   "metadata": {
    "nbgrader": {
     "grade": false,
     "grade_id": "cell-372eac3e065d97df",
     "locked": false,
     "schema_version": 3,
     "solution": true,
     "task": false
    }
   },
   "outputs": [
    {
     "data": {
      "text/plain": [
       "False"
      ]
     },
     "execution_count": 27,
     "metadata": {},
     "output_type": "execute_result"
    }
   ],
   "source": [
    "def est_palindrome(s):\n",
    "    ### BEGIN SOLUTION\n",
    "    return s == s[::-1] \n",
    "    ### END SOLUTION"
   ]
  },
  {
   "cell_type": "code",
   "execution_count": 28,
   "metadata": {
    "nbgrader": {
     "grade": true,
     "grade_id": "cell-d3913fe6af2fb45e",
     "locked": true,
     "points": 3,
     "schema_version": 3,
     "solution": false,
     "task": false
    }
   },
   "outputs": [],
   "source": [
    "assert est_palindrome(\"gag\")\n",
    "assert est_palindrome(\"laval\")\n",
    "assert est_palindrome(\"\")\n",
    "assert est_palindrome(\"palindrome\") == False"
   ]
  },
  {
   "cell_type": "markdown",
   "metadata": {},
   "source": [
    "### Miroir\n",
    "\n",
    "Ecrire la fonction miroir qui crée un palindrome. Elle prend un chaine en paramètre et retourne le palindrome correspondant au miroir de la chaine"
   ]
  },
  {
   "cell_type": "code",
   "execution_count": 35,
   "metadata": {
    "nbgrader": {
     "grade": false,
     "grade_id": "cell-f23ec13cae6ca407",
     "locked": false,
     "schema_version": 3,
     "solution": true,
     "task": false
    }
   },
   "outputs": [],
   "source": [
    "def miroir(s):\n",
    "    ### BEGIN SOLUTION\n",
    "    return s + s[::-1]\n",
    "    ### END SOLUTION\n"
   ]
  },
  {
   "cell_type": "code",
   "execution_count": 36,
   "metadata": {
    "nbgrader": {
     "grade": true,
     "grade_id": "cell-c639250c614271e5",
     "locked": true,
     "points": 3,
     "schema_version": 3,
     "solution": false,
     "task": false
    }
   },
   "outputs": [],
   "source": [
    "assert est_palindrome(miroir(\"palindrome\"))\n",
    "assert est_palindrome(miroir(\"\"))\n",
    "assert est_palindrome(miroir(\"porte\"))"
   ]
  },
  {
   "cell_type": "markdown",
   "metadata": {},
   "source": [
    "## Listes"
   ]
  },
  {
   "cell_type": "markdown",
   "metadata": {},
   "source": [
    "### Max d'une liste\n",
    "\n",
    "Ecrire une fonction qui retourne le plus grand nombre d'une liste"
   ]
  },
  {
   "cell_type": "code",
   "execution_count": 54,
   "metadata": {
    "nbgrader": {
     "grade": false,
     "grade_id": "cell-7d981642e463b138",
     "locked": false,
     "schema_version": 3,
     "solution": true,
     "task": false
    }
   },
   "outputs": [],
   "source": [
    "def max_liste(l):\n",
    "    max = l[0]\n",
    "    for i in l[1:]:\n",
    "        if i > max:\n",
    "            max = i\n",
    "    return max"
   ]
  },
  {
   "cell_type": "code",
   "execution_count": 55,
   "metadata": {
    "nbgrader": {
     "grade": true,
     "grade_id": "cell-5c7267b8c5ff8910",
     "locked": true,
     "points": 2,
     "schema_version": 3,
     "solution": false,
     "task": false
    }
   },
   "outputs": [],
   "source": [
    "assert max_liste([3, 7, 9, 5.4, 8.9, 9, 8.999, 5]) == 9\n",
    "assert max_liste([-3,5,-22,4,12,2]) == 12"
   ]
  },
  {
   "cell_type": "markdown",
   "metadata": {},
   "source": [
    "### Nombre d'occurence \n",
    "\n",
    "Ecrire la fonction qui compte le nombre d'occurence d'un élément dans une liste"
   ]
  },
  {
   "cell_type": "code",
   "execution_count": 62,
   "metadata": {
    "nbgrader": {
     "grade": false,
     "grade_id": "cell-3d59f20935e1a8f4",
     "locked": false,
     "schema_version": 3,
     "solution": true,
     "task": false
    }
   },
   "outputs": [],
   "source": [
    "def nb_occurences(l,x):\n",
    "    cpt = 0\n",
    "    for i in l :\n",
    "        if i == x:\n",
    "            cpt = cpt+1\n",
    "    return cpt"
   ]
  },
  {
   "cell_type": "code",
   "execution_count": 63,
   "metadata": {
    "nbgrader": {
     "grade": true,
     "grade_id": "cell-99f002006294a3a6",
     "locked": true,
     "points": 2,
     "schema_version": 3,
     "solution": false,
     "task": false
    }
   },
   "outputs": [],
   "source": [
    "assert nb_occurences([3, 7, 9, 5.4, 8.9, 9, 8.999, 5], 9) == 2\n",
    "assert nb_occurences([\"chat\", \"ours\", \"chat\", \"chat\", \"loup\"], \"chat\") == 3\n",
    "assert nb_occurences([\"chat\", \"ours\", \"chat\", \"chat\", \"loup\"], \"chien\") == 0"
   ]
  }
 ],
 "metadata": {
  "celltoolbar": "Create Assignment",
  "kernelspec": {
   "display_name": "Python 3",
   "language": "python",
   "name": "python3"
  },
  "language_info": {
   "codemirror_mode": {
    "name": "ipython",
    "version": 3
   },
   "file_extension": ".py",
   "mimetype": "text/x-python",
   "name": "python",
   "nbconvert_exporter": "python",
   "pygments_lexer": "ipython3",
   "version": "3.8.2"
  }
 },
 "nbformat": 4,
 "nbformat_minor": 1
}
